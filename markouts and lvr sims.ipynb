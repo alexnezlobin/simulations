{
 "cells": [
  {
   "cell_type": "markdown",
   "metadata": {},
   "source": [
    "twitter.com/0x94305\n",
    "Simulations of LVR and realized spreads"
   ]
  },
  {
   "cell_type": "code",
   "execution_count": 1,
   "metadata": {},
   "outputs": [],
   "source": [
    "import numpy as np\n",
    "import pandas as pd\n",
    "import matplotlib.pyplot as plt\n",
    "import seaborn as sns\n",
    "from math import sqrt"
   ]
  },
  {
   "cell_type": "code",
   "execution_count": 2,
   "metadata": {},
   "outputs": [],
   "source": [
    "class AMM:\n",
    "\n",
    "     def __init__(self, fee=0.0, p = 1200.0, L = 166_666.67):\n",
    "         \"\"\"Constructor, instantiates a new AMM pool\n",
    "\n",
    "         Args:\n",
    "             fee (float, optional): Pool fee. Defaults to 0.0.\n",
    "             p (float, optional): Price of token X (eg ETH) in token Y (eg USDT). Defaults to 1200.0.\n",
    "             L (_type_, optional): Marginal liquidity.\n",
    "                Defaults to 166_666.67, which is approx 20,000 Y/bps at p=1200.\n",
    "                In general, to get a realistic L, get liquidity/bps from a Uniswap pool (x),\n",
    "                and set L=x*10^4/p\n",
    "         \"\"\"\n",
    "         self.sqrtP = sqrt(p)\n",
    "         self.L = L\n",
    "         self.Fee = 1 + fee\n",
    "\n",
    "\n",
    "     def xReserves(self):\n",
    "         \"\"\"Gets reserves of X (base) token from the pool.\n",
    "\n",
    "         The reserves do not include fees and are calculated in Uniswap v2-equivalent units (ambient liquidity).\n",
    "\n",
    "         Returns:\n",
    "             float: Reserves of X\n",
    "         \"\"\"\n",
    "         return self.L/self.sqrtP\n",
    "\n",
    "     def yReserves(self):\n",
    "         \"\"\"Gets reserves of Y (quote) token from the pool. \n",
    "\n",
    "         The reserves do not include fees and are calculated in Uniswap v2-equivalent units (ambient liquidity).\n",
    "\n",
    "         Returns:\n",
    "             float: Reserves of Y\n",
    "         \"\"\"        \n",
    "         return self.L*self.sqrtP\n",
    "\n",
    "     def tradeToPriceWithFee(self, targetP, gas=0.0):\n",
    "         \"\"\"Attempts to perform an arbitrage swap given the target price.\n",
    "\n",
    "         Args:\n",
    "             targetP (float): target \"efficient\" price. If it exceeds the current pool price of X, \n",
    "                the function will attempt to buy X for the client (the pool will be selling X).\n",
    "                The swap must be profitable to the client after the swap fee and gas cost. \n",
    "             gas (float, optional): total gas cost of the transaction in Y tokens. Defaults to 0.0.\n",
    "\n",
    "         Returns:\n",
    "             x, y, fee: If a profitable arbitrage opportunity is found, then it is executed\n",
    "                against the pool. The return values of x and y are positive if the client receives \n",
    "                the corresponding amount and negative otherwise. x and y already include the swap fee,\n",
    "                but not gas cost. fee is reported for informational purposes and is measured in Y tokens.\n",
    "                If no profitable swap is found, the state of the pool is unchanged, and the function \n",
    "                returns three zeros. \n",
    "         \"\"\"\n",
    "         currentP = self.sqrtP**2\n",
    "\n",
    "         if (self.Fee*currentP > targetP) and (currentP*(2 - self.Fee) < targetP):\n",
    "            # target price is within the current bid-ask spread, no arb opportunity available\n",
    "            (x, y, fee) = (0,0,0)\n",
    "            newSqrtP = self.sqrtP\n",
    "         elif (self.Fee*currentP < targetP):\n",
    "            # target price is higher than best ask, try buying X for the client (the pool sells)\n",
    "            newSqrtP = sqrt(targetP / self.Fee)\n",
    "            y = -(newSqrtP - self.sqrtP)*self.L\n",
    "            (x, y, fee) = ((newSqrtP-self.sqrtP)*self.L/(self.sqrtP*newSqrtP),\n",
    "             y*self.Fee, -y*(self.Fee-1))\n",
    "         else:\n",
    "            newSqrtP = sqrt(targetP / (2 - self.Fee))\n",
    "            y = -(newSqrtP - self.sqrtP)*self.L\n",
    "            (x, y, fee) = ((newSqrtP-self.sqrtP)*self.L/(self.sqrtP*newSqrtP),\n",
    "             y*(2 - self.Fee), (y-y*(2 - self.Fee)))\n",
    "\n",
    "         if (x*targetP + y < gas):\n",
    "            (x, y, fee) = (0.0, 0.0, 0.0) \n",
    "         else:\n",
    "            self.sqrtP = newSqrtP\n",
    "\n",
    "         return (x, y, fee)\n",
    "\n"
   ]
  },
  {
   "cell_type": "code",
   "execution_count": 3,
   "metadata": {},
   "outputs": [],
   "source": [
    "# Set main parameters here\n",
    "fee = 0.003\n",
    "daily_std = 0.05 # daily std of the price of X in Y\n",
    "\n",
    "blocks_per_day = 24.0*60*5 # 5 blocks per minute = 12s blocks\n",
    "days = 10 # how many days each simulation runs\n",
    "paths = 1000 # how many price paths to simulate. days*paths = total number of simulated days\n",
    "gas_fee = 10.0"
   ]
  },
  {
   "cell_type": "code",
   "execution_count": 4,
   "metadata": {},
   "outputs": [],
   "source": [
    "# This cell can take a few minutes to run. Change paths or days above to speed things up\n",
    "\n",
    "# rs1 - realized spread using the AMM price 5 minutes later as markout (25 blocks = 5 minutes)\n",
    "# rs2 - realized spread using the efficient price 5 minutes later as markout\n",
    "# rs3 - realized spread using the AMM price 1 hour later as markout\n",
    "results = pd.DataFrame(columns=['lvr', 'rs1', 'rs2', 'rs3'])\n",
    "\n",
    "for jj in range(paths):\n",
    "\n",
    "    amm = AMM(fee)\n",
    "    \n",
    "    # save the initial price\n",
    "    p0 = amm.sqrtP**2\n",
    "    \n",
    "    sigma = daily_std/np.sqrt(blocks_per_day) # vol between blocks\n",
    "    T = int(days*blocks_per_day)\n",
    "\n",
    "    # Generate a GBM path for prices\n",
    "    z = np.cumsum(np.random.normal(0.0, sigma, T))\n",
    "    # Note that we are adding a risk-neutral drift, so that the price process is a martingale\n",
    "    prices = np.exp(z-(np.arange(T)*sigma**2)/2)\n",
    "    prices = prices/prices[0]*p0\n",
    "\n",
    "    # save the initial reserves   \n",
    "    initial_xReserves = amm.xReserves()\n",
    "    initial_yReserves = amm.yReserves()\n",
    "\n",
    "    lvr = 0.0\n",
    "    amm_prices = [] # we will be saving the AMM prices as we go\n",
    "    xy = [] # here, we will be storing tuples of (x,y) - the execution amounts of the two tokens\n",
    "\n",
    "    for i in range(len(prices)):\n",
    "        x0, y0, f = amm.tradeToPriceWithFee(prices[i], gas_fee)\n",
    "        lvr += x0*prices[i] + y0\n",
    "        amm_prices.append(amm.sqrtP**2)\n",
    "        xy.append((x0,y0))\n",
    "\n",
    "    rs1 = np.sum([xy[0]*p + xy[1] for xy, p in zip(xy[:-25], amm_prices[25:])])\n",
    "    rs2 = np.sum([xy[0]*p + xy[1] for xy, p in zip(xy[:-25], prices[25:])])\n",
    "    rs3 = np.sum([xy[0]*p + xy[1] for xy, p in zip(xy[:-300], amm_prices[300:])])\n",
    "\n",
    "    results.loc[len(results.index)] = [lvr, rs1, rs2, rs3]\n",
    "\n",
    "# Normalize results so that (i) losses are shown as negative amounts, \n",
    "# (ii) per trading day,\n",
    "# (iii) as percentage of initial liquidity\n",
    "results.loc[:, [\"lvr\", \"rs1\", \"rs2\", \"rs3\"]] = -results.loc[:, [\"lvr\", \"rs1\", \"rs2\", \"rs3\"]]/days/(2*initial_yReserves) "
   ]
  },
  {
   "cell_type": "code",
   "execution_count": 5,
   "metadata": {},
   "outputs": [
    {
     "data": {
      "image/png": "[encoded data removed]",
      "text/plain": [
       "<Figure size 432x288 with 1 Axes>"
      ]
     },
     "metadata": {},
     "output_type": "display_data"
    }
   ],
   "source": [
    "# Now we can plot the results\n",
    "# The variances are not exactly correct unless days==1 because\n",
    "# there is one averaged observation for several days. Means should be ok though.\n",
    "# Setting days==1 is also not ideal because the 1hr markout will lose 1/24 of data relative to the rest.\n",
    "\n",
    "sns.set()\n",
    "\n",
    "bw_adjust = 5\n",
    "ax = sns.kdeplot(data=results[\"lvr\"], bw_adjust=bw_adjust, label = \"LVR\")\n",
    "ax = sns.kdeplot(data=(results[\"rs1\"]), bw_adjust=bw_adjust, label = \"Markout, 5min, AMM p\")\n",
    "ax = sns.kdeplot(data=(results[\"rs2\"]), bw_adjust=bw_adjust, label = \"Markout, 5min, true p\")\n",
    "ax = sns.kdeplot(data=results[\"rs3\"], bw_adjust=bw_adjust, label = \"Markout, 1hr, AMM p\")\n",
    "\n",
    "# Choose x-axis limits so that the plot looks nice\n",
    "ax.set_xlim([-0.0003,0.0003])\n",
    "ax.set(xlabel='Daily LP return (bps)', ylabel='Density')\n",
    "ax.set_xticks([0, np.mean(results[\"lvr\"]), np.mean(results[\"rs1\"])])\n",
    "\n",
    "l = ['0.0'] + [\"{:.1f}\".format(np.mean(results[s]*10000)) for s in \n",
    "     [\"lvr\", \"rs1\"]]\n",
    "ax.set_xticklabels(l)\n",
    "\n",
    "plt.legend()\n",
    "plt.show()\n"
   ]
  },
  {
   "cell_type": "code",
   "execution_count": 6,
   "metadata": {},
   "outputs": [
    {
     "data": {
      "text/plain": [
       "(-0.00010396119114884891,\n",
       " 3.006509108903093e-05,\n",
       " -0.00010393141765558878,\n",
       " -0.00010095215233328755)"
      ]
     },
     "execution_count": 6,
     "metadata": {},
     "output_type": "execute_result"
    }
   ],
   "source": [
    "np.mean(results.lvr),np.mean(results.rs1),np.mean(results.rs2),np.mean(results.rs3) "
   ]
  },
  {
   "cell_type": "code",
   "execution_count": null,
   "metadata": {},
   "outputs": [],
   "source": []
  }
 ],
 "metadata": {
  "kernelspec": {
   "display_name": "Python 3.8.8 ('base')",
   "language": "python",
   "name": "python3"
  },
  "language_info": {
   "codemirror_mode": {
    "name": "ipython",
    "version": 3
   },
   "file_extension": ".py",
   "mimetype": "text/x-python",
   "name": "python",
   "nbconvert_exporter": "python",
   "pygments_lexer": "ipython3",
   "version": "3.8.8"
  },
  "orig_nbformat": 4,
  "vscode": {
   "interpreter": {
    "hash": "b757a130750424fbfc4b026c682863fa16031bc347ceb7bfcfde2b39dfc4b55c"
   }
  }
 },
 "nbformat": 4,
 "nbformat_minor": 2
}
