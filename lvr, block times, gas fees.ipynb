{
 "cells": [
  {
   "attachments": {},
   "cell_type": "markdown",
   "metadata": {},
   "source": [
    "https://twitter.com/0x94305/status/1611857817392263170"
   ]
  },
  {
   "attachments": {},
   "cell_type": "markdown",
   "metadata": {},
   "source": [
    "This notebook models the loss of LPs to arbitrageurs as a function of (1) block times and (2) gas fees "
   ]
  },
  {
   "cell_type": "code",
   "execution_count": 1,
   "metadata": {},
   "outputs": [],
   "source": [
    "import numpy as np\n",
    "import matplotlib.pyplot as plt\n",
    "from matplotlib import ticker as mticker\n",
    "import seaborn as sns\n",
    "from math import sqrt\n",
    "from numba import njit, float64\n",
    "from numba.experimental import jitclass"
   ]
  },
  {
   "cell_type": "code",
   "execution_count": 2,
   "metadata": {},
   "outputs": [],
   "source": [
    "spec = [\n",
    "    ('sqrtP', float64),  # this might need to be changed to float32, depending on setup (also in the import above)\n",
    "    ('L', float64),\n",
    "    ('Fee', float64)\n",
    "]\n",
    "\n",
    "@jitclass(spec)\n",
    "class AMM:\n",
    "\n",
    "     def __init__(self, fee=0.0, p = 1200.0, L = 166_666.67):\n",
    "         \"\"\"Constructor, instantiates a new AMM pool\n",
    "\n",
    "         Args:\n",
    "             fee (float, optional): Pool fee. Defaults to 0.0.\n",
    "             p (float, optional): Price of token X (eg ETH) in token Y (eg USDT). Defaults to 1200.0.\n",
    "             L (_type_, optional): Marginal liquidity.\n",
    "                Defaults to 166_666.67, which is approx 20,000 Y/bps at p=1200.\n",
    "                In general, to get a realistic L, get liquidity/bps from a Uniswap pool (x),\n",
    "                and set L=x*10^4/p\n",
    "         \"\"\"\n",
    "         self.sqrtP = sqrt(p)\n",
    "         self.L = L\n",
    "         self.Fee = 1 + fee\n",
    "\n",
    "\n",
    "     def xReserves(self):\n",
    "         \"\"\"Gets reserves of X (base) token from the pool.\n",
    "\n",
    "         The reserves do not include fees and are calculated in Uniswap v2-equivalent units (ambient liquidity).\n",
    "\n",
    "         Returns:\n",
    "             float: Reserves of X\n",
    "         \"\"\"\n",
    "         return self.L/self.sqrtP\n",
    "\n",
    "     def yReserves(self):\n",
    "         \"\"\"Gets reserves of Y (quote) token from the pool. \n",
    "\n",
    "         The reserves do not include fees and are calculated in Uniswap v2-equivalent units (ambient liquidity).\n",
    "\n",
    "         Returns:\n",
    "             float: Reserves of Y\n",
    "         \"\"\"        \n",
    "         return self.L*self.sqrtP\n",
    "\n",
    "     def tradeToPriceWithFee(self, targetP, gas=0.0):\n",
    "         \"\"\"Attempts to perform an arbitrage swap given the target price.\n",
    "\n",
    "         Args:\n",
    "             targetP (float): target \"efficient\" price. If it exceeds the current pool price of X, \n",
    "                the function will attempt to buy X for the client (the pool will be selling X).\n",
    "                The swap must be profitable to the client after the swap fee and gas cost. \n",
    "             gas (float, optional): total gas cost of the transaction in Y tokens. Defaults to 0.0.\n",
    "\n",
    "         Returns:\n",
    "             x, y, fee: If a profitable arbitrage opportunity is found, then it is executed\n",
    "                against the pool. The return values of x and y are positive if the client receives \n",
    "                the corresponding amount and negative otherwise. x and y already include the swap fee,\n",
    "                but not gas cost. fee is reported for informational purposes and is measured in Y tokens.\n",
    "                If no profitable swap is found, the state of the pool is unchanged, and the function \n",
    "                returns three zeros. \n",
    "         \"\"\"\n",
    "         currentP = self.sqrtP**2\n",
    "\n",
    "         if (self.Fee*currentP > targetP) and (currentP*(2 - self.Fee) < targetP):\n",
    "            # target price is within the current bid-ask spread, no arb opportunity available\n",
    "            (x, y, fee) = (0,0,0)\n",
    "            newSqrtP = self.sqrtP\n",
    "         elif (self.Fee*currentP < targetP):\n",
    "            # target price is higher than best ask, try buying X for the client (the pool sells)\n",
    "            newSqrtP = sqrt(targetP / self.Fee)\n",
    "            y = -(newSqrtP - self.sqrtP)*self.L\n",
    "            (x, y, fee) = ((newSqrtP-self.sqrtP)*self.L/(self.sqrtP*newSqrtP),\n",
    "             y*self.Fee, -y*(self.Fee-1))\n",
    "         else:\n",
    "            newSqrtP = sqrt(targetP / (2 - self.Fee))\n",
    "            y = -(newSqrtP - self.sqrtP)*self.L\n",
    "            (x, y, fee) = ((newSqrtP-self.sqrtP)*self.L/(self.sqrtP*newSqrtP),\n",
    "             y*(2 - self.Fee), (y-y*(2 - self.Fee)))\n",
    "\n",
    "         if (x*targetP + y < gas):\n",
    "            (x, y, fee) = (0.0, 0.0, 0.0) \n",
    "         else:\n",
    "            self.sqrtP = newSqrtP\n",
    "\n",
    "         return (x, y, fee)\n"
   ]
  },
  {
   "cell_type": "code",
   "execution_count": 3,
   "metadata": {},
   "outputs": [],
   "source": [
    "@njit\n",
    "def run_simulations(fee, daily_std, blocks_per_day, days, paths, gas_fee, L):\n",
    "    # This array will store two values for each simulated price path:\n",
    "    # lvr (as a positive number), arb's gain (negative)\n",
    "    results = np.zeros((2, paths))\n",
    "    \n",
    "    for jj in range(paths):\n",
    "        amm1 = AMM(fee, 1200.0, L)\n",
    "        \n",
    "        # save the initial price\n",
    "        p0 = amm1.sqrtP**2\n",
    "        \n",
    "        sigma = daily_std/np.sqrt(blocks_per_day) # vol between blocks\n",
    "        T = int(days*blocks_per_day)\n",
    "\n",
    "        # Generate a GBM path for prices\n",
    "        z = np.cumsum(np.random.normal(0.0, sigma, T))\n",
    "        # Note that we are adding a risk-neutral drift, so that the price process is a martingale\n",
    "        prices = np.exp(z-(np.arange(T)*sigma**2)/2)\n",
    "        prices = prices/prices[0]*p0\n",
    "\n",
    "        # save the initial reserves   \n",
    "        initial_yReserves = amm1.yReserves()\n",
    "\n",
    "        lvr1 = arb_gain1 = 0.0\n",
    "        \n",
    "        for i in range(T):\n",
    "            x0, y0, f = amm1.tradeToPriceWithFee(prices[i], gas_fee)\n",
    "            lvr1 += -x0*prices[i] - y0\n",
    "            if (x0!=0) or (y0!=0): arb_gain1 += x0*prices[i] + y0 - gas_fee\n",
    "\n",
    "        results[:, jj] = [-x/days/(2*initial_yReserves) for x in [lvr1, arb_gain1]]\n",
    "\n",
    "    return results"
   ]
  },
  {
   "cell_type": "code",
   "execution_count": 4,
   "metadata": {},
   "outputs": [],
   "source": [
    "# Set default parameters here\n",
    "fee = 0.0005 #swap fee\n",
    "daily_std = 0.05 # daily std of the price of X in Y\n",
    "blocks_per_day = 24.0*60*5 # 5 blocks per minute = 12ss blocks\n",
    "days = 1.0 # how many days each simulation runs\n",
    "paths = 1000 # how many price paths to simulate. days*paths = total number of simulated days\n",
    "gas_fee = 20.0 #fixed $ gas fee per swap\n",
    "L = 500_000.0 #with a starting price of ETH at $1200 (which is the default value), this L is equivalent to $60,000/bps"
   ]
  },
  {
   "cell_type": "code",
   "execution_count": 5,
   "metadata": {},
   "outputs": [],
   "source": [
    "# Run simulations changing one parameter at a time, i.e., start with fees\n",
    "results1 = run_simulations(fee, daily_std, blocks_per_day, days, paths, gas_fee, L)\n",
    "results2 = run_simulations(fee, daily_std, blocks_per_day, days, paths, gas_fee/10, L)\n",
    "results3 = run_simulations(fee, daily_std, blocks_per_day*6, days, paths, gas_fee/10, L)\n"
   ]
  },
  {
   "cell_type": "code",
   "execution_count": 6,
   "metadata": {},
   "outputs": [
    {
     "data": {
      "image/png": "[encoded data removed]",
      "text/plain": [
       "<Figure size 432x288 with 1 Axes>"
      ]
     },
     "metadata": {},
     "output_type": "display_data"
    }
   ],
   "source": [
    "# Now we can plot the results\n",
    "\n",
    "sns.set()\n",
    "bw_adjust = 5\n",
    "means = [np.mean(s) for s in [results1[0,:], results2[0,:], results3[0,:]]]\n",
    "\n",
    "ax = sns.kdeplot(data=results1[0,:], bw_adjust=bw_adjust, label = \n",
    "\"12s blocks, $20 tx cost (mean = {:.2f} bps)\".format(means[0]*10000))\n",
    "\n",
    "ax = sns.kdeplot(data=results2[0,:], bw_adjust=bw_adjust, label = \n",
    "\"12s blocks, $2 tx cost (mean = {:.2f} bps)\".format(means[1]*10000))\n",
    "\n",
    "ax = sns.kdeplot(data=results3[0,:], bw_adjust=bw_adjust, label = \n",
    "\"2s blocks, $2 tx cost (mean = {:.2f} bps)\".format(means[2]*10000))\n",
    "\n",
    "ax.set(xlabel=\"LVR (bps). sigma = 5% daily\", ylabel='Density')\n",
    "ticks_loc = ax.get_xticks().tolist()\n",
    "ax.xaxis.set_major_locator(mticker.FixedLocator(ticks_loc))\n",
    "ax.set_xticklabels([\"{:.2f}\".format(tick*10000) for tick in ticks_loc])\n",
    "\n",
    "plt.legend()\n",
    "plt.show()\n"
   ]
  },
  {
   "cell_type": "code",
   "execution_count": null,
   "metadata": {},
   "outputs": [],
   "source": []
  }
 ],
 "metadata": {
  "kernelspec": {
   "display_name": "Python 3.8.8 ('base')",
   "language": "python",
   "name": "python3"
  },
  "language_info": {
   "codemirror_mode": {
    "name": "ipython",
    "version": 3
   },
   "file_extension": ".py",
   "mimetype": "text/x-python",
   "name": "python",
   "nbconvert_exporter": "python",
   "pygments_lexer": "ipython3",
   "version": "3.8.8"
  },
  "orig_nbformat": 4,
  "vscode": {
   "interpreter": {
    "hash": "b757a130750424fbfc4b026c682863fa16031bc347ceb7bfcfde2b39dfc4b55c"
   }
  }
 },
 "nbformat": 4,
 "nbformat_minor": 2
}
