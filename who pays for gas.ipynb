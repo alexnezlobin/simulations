{
 "cells": [
  {
   "attachments": {},
   "cell_type": "markdown",
   "metadata": {},
   "source": [
    "https://twitter.com/0x94305/status/1736894774031065093"
   ]
  },
  {
   "attachments": {},
   "cell_type": "markdown",
   "metadata": {},
   "source": [
    "This notebook models the loss of LPs to arbitrageurs as a function of the fixed gas cost"
   ]
  },
  {
   "cell_type": "code",
   "execution_count": 1,
   "metadata": {},
   "outputs": [],
   "source": [
    "import numpy as np\n",
    "from math import sqrt\n",
    "from numba import njit, float64\n",
    "from numba.experimental import jitclass"
   ]
  },
  {
   "cell_type": "code",
   "execution_count": 35,
   "metadata": {},
   "outputs": [],
   "source": [
    "spec = [\n",
    "    ('sqrtP', float64),\n",
    "    ('L', float64),\n",
    "    ('fee', float64)\n",
    "]\n",
    "\n",
    "@jitclass(spec)\n",
    "class AMM:\n",
    "\n",
    "     def __init__(self, fee=0.0, p = 1000.0, liquidityPerBP = 50_000.00):\n",
    "         \"\"\"Constructor, instantiates a new Uniswap-like AMM pool.\n",
    "\n",
    "         Args:\n",
    "             fee (float, optional): Pool fee. Defaults to 0.0.\n",
    "             p (float, optional): Price of token X (eg, ETH) in token Y (eg, USDT). Defaults to 1000.0.\n",
    "             liquidityPerBP (_type_, optional): The amount of liquidity per basis point, in token Y. Defaults to 50_000.0.\n",
    "         \"\"\"\n",
    "\n",
    "         self.sqrtP = sqrt(p)\n",
    "         \n",
    "         # self.L = liquidityPerBP / (self.sqrtP * (sqrt(1.0001) - 1))\n",
    "         self.L = liquidityPerBP / (self.sqrtP * (sqrt(1.0001) - 1))\n",
    "         self.fee = fee\n",
    "\n",
    "\n",
    "     def xReserves(self):\n",
    "         \"\"\"Gets reserves of X (base) token in the pool.\n",
    "        \n",
    "         The reserves do not include fees and are calculated in Uniswap v2-equivalent units (full range liquidity).\n",
    "\n",
    "\n",
    "         Returns:\n",
    "             float: Reserves of X.\n",
    "         \"\"\"\n",
    "         return self.L/self.sqrtP\n",
    "\n",
    "     def yReserves(self):\n",
    "         \"\"\"Gets reserves of Y (quote) token in the pool. \n",
    "\n",
    "         The reserves do not include fees and are calculated in Uniswap v2-equivalent units (full range liquidity).\n",
    "\n",
    "         Returns:\n",
    "             float: Reserves of Y\n",
    "         \"\"\"        \n",
    "         return self.L*self.sqrtP\n",
    "\n",
    "     def tradeToPriceWithGasFee(self, targetP, gas=0.0):\n",
    "         \"\"\"Attempts to perform an arbitrage swap given the market price and gas fee.\n",
    "\n",
    "         Args:\n",
    "             targetP (float): The efficient price towards which the trade will be performed. If it exceeds the current pool price of X, \n",
    "                the function will attempt to buy X for the client (the pool will be selling X).\n",
    "                The swap must be profitable to the client after the swap fee and gas cost. \n",
    "             gas (float, optional): total gas cost of the transaction in Y tokens. Defaults to 0.0.\n",
    "\n",
    "         Returns:\n",
    "             x, y, fee: If a profitable arbitrage opportunity is found, then it is executed\n",
    "                against the pool. Return values x and y are positive if the client receives \n",
    "                the corresponding amount and negative otherwise. x and y already include the swap fee,\n",
    "                but not the gas fee. The third return, fee, is for informational purposes and is measured in Y tokens.\n",
    "                If no profitable swap is found, the state of the pool is unchanged, and the function \n",
    "                returns three zeros. \n",
    "         \"\"\"\n",
    "         currentP = self.sqrtP**2\n",
    "\n",
    "         if (currentP/(1 - self.fee) > targetP) and (currentP*(1 - self.fee) < targetP):\n",
    "            # target price is within the current bid-ask spread, no arb opportunity available\n",
    "            (x, y, fee) = (0,0,0)\n",
    "            newSqrtP = self.sqrtP\n",
    "\n",
    "         elif (currentP/(1 - self.fee) < targetP):\n",
    "            # target price is higher than best ask, try buying X for the client (the pool sells)\n",
    "            newSqrtP = sqrt(targetP * (1 - self.fee))\n",
    "            y = -(newSqrtP - self.sqrtP)*self.L\n",
    "            (x, y, fee) = ((newSqrtP-self.sqrtP)*self.L/(self.sqrtP*newSqrtP),\n",
    "             y/(1 - self.fee), -y * self.fee * (1 - self.fee))\n",
    "         else:\n",
    "            newSqrtP = sqrt(targetP / (1 - self.fee))\n",
    "            y = -(newSqrtP - self.sqrtP)*self.L\n",
    "            (x, y, fee) = ((newSqrtP-self.sqrtP)*self.L/(self.sqrtP*newSqrtP),\n",
    "             y*(1 - self.fee), y*self.fee)\n",
    "\n",
    "         if (x*targetP + y < gas):\n",
    "            # The arb opportunity does not justify the gas fee\n",
    "            (x, y, fee) = (0.0, 0.0, 0.0) \n",
    "         else:\n",
    "            self.sqrtP = newSqrtP\n",
    "\n",
    "         return (x, y, fee)\n",
    "     \n",
    "     def bidAskSpread(self):\n",
    "         \"\"\"Returns the bid-ask spread of the AMM.\n",
    "\n",
    "         Returns:\n",
    "             bid, ask: the best bid and ask (after-fee) prices offered by the AMM.\n",
    "         \"\"\"\n",
    "         currentP = self.sqrtP**2\n",
    "\n",
    "         return (currentP*(1 - self.fee), currentP/(1 - self.fee))\n",
    "\n"
   ]
  },
  {
   "cell_type": "code",
   "execution_count": 3,
   "metadata": {},
   "outputs": [],
   "source": [
    "@njit\n",
    "def run_sims2(fee, price, daily_std, blocks_per_day, \n",
    "                    days, paths, low_gas_cost, high_gas_cost, liquidityPerBP):\n",
    "    # This array will store six values for each simulated price path:\n",
    "    # (0) lvr (as a positive number) - low gas cost, (1) arb's gain (negative) - low gas  cost, (2) total gas burned at low cost\n",
    "    # (3) lvr (as a positive number) - high gas cost, (4) arb's gain (negative) - high gas  cost, (5) total gas burned at high cost\n",
    "    results = np.zeros((6, paths))\n",
    "    \n",
    "    for jj in range(paths):\n",
    "    \n",
    "        # save the initial price\n",
    "        p0 = price\n",
    "        \n",
    "        sigma = daily_std/np.sqrt(blocks_per_day) # vol between blocks\n",
    "        T = int(days*blocks_per_day)\n",
    "\n",
    "        # Generate a GBM path for prices\n",
    "        z = np.cumsum(np.random.normal(0.0, sigma, T))\n",
    "        # Note that we are adding a risk-neutral drift, so that the price process is a martingale\n",
    "        prices = np.exp(z-(np.arange(T)*sigma**2)/2)\n",
    "        prices = prices/prices[0]*p0\n",
    "\n",
    "        amm = AMM(fee, price, liquidityPerBP)\n",
    "        amm_high_gas = AMM(fee, price, liquidityPerBP)\n",
    "\n",
    "        # save the initial reserves   \n",
    "        initial_yReserves = amm.yReserves()\n",
    "\n",
    "        lvr0 = arb_gain0 = lvr1 = arb_gain1 = low_gas = high_gas = 0.0\n",
    "            \n",
    "        for i in range(1, T):\n",
    "            x0, y0, f = amm.tradeToPriceWithGasFee(prices[i], low_gas_cost)\n",
    "            lvr0 += -x0*prices[i] - y0\n",
    "            if x0 != 0.0: \n",
    "                arb_gain0 += x0*prices[i] + y0 - low_gas_cost\n",
    "                low_gas += low_gas_cost\n",
    "\n",
    "            x0, y0, f = amm_high_gas.tradeToPriceWithGasFee(prices[i], high_gas_cost)\n",
    "            lvr1 += -x0*prices[i] - y0\n",
    "            if x0 != 0.0: \n",
    "                arb_gain1 += x0*prices[i] + y0 - high_gas_cost\n",
    "                high_gas += high_gas_cost\n",
    "\n",
    "        results[:, jj] = [ lvr0/days, arb_gain0/days, low_gas/days,\n",
    "                          lvr1/days, arb_gain1/days, high_gas/days]\n",
    "\n",
    "    return results"
   ]
  },
  {
   "cell_type": "code",
   "execution_count": 37,
   "metadata": {},
   "outputs": [],
   "source": [
    "fee = 0.0005\n",
    "\n",
    "initialPrice = 2000.0\n",
    "daily_std = 0.05 # daily std of the price of X in Y\n",
    "blocks_per_day = 24.0*60*5 # 5 blocks per minute = 12ss blocks\n",
    "days = 1.0 # how many days each simulation runs\n",
    "paths = 10_000 # how many price paths to simulate. days*paths = total number of simulated days\n",
    "low_gas_cost = 10.0 # low gas fee per swap\n",
    "high_gas_cost = 10.50 # low gas fee per swap\n",
    "liquidityPerBPS = 50_000.0 #with a starting price of ETH at $1200 (which is the default value), this L is equivalent to $60,000/bps\n",
    "\n",
    "res = run_sims2(fee, initialPrice, daily_std, \n",
    "                    blocks_per_day, days, paths, low_gas_cost, high_gas_cost, liquidityPerBPS)\n",
    "\n",
    "l = np.mean(res, 1)"
   ]
  },
  {
   "cell_type": "code",
   "execution_count": 38,
   "metadata": {},
   "outputs": [
    {
     "name": "stdout",
     "output_type": "stream",
     "text": [
      "Extra gas cost as a share of original gas cost:  0.040874255611626456\n",
      "Share of the extra gas cost covered by LPs:  0.5062022195720911\n",
      "Extra loss of LPs as a share of post-fee LVR:  0.0019357718147344051\n",
      "Gas cost (w/o events) as a share of post-fee LVR:  0.0935578559359093\n"
     ]
    }
   ],
   "source": [
    "print(\"Extra gas cost as a share of original gas cost: \", (l[5] - l[2])/l[2])\n",
    "print(\"Share of the extra gas cost covered by LPs: \", (l[0] - l[3])/(l[5] - l[2]))\n",
    "print(\"Extra loss of LPs as a share of post-fee LVR: \", -(l[0] - l[3])/l[0])\n",
    "print(\"Gas cost (w/o events) as a share of post-fee LVR: \", -(l[2])/l[0])"
   ]
  },
  {
   "cell_type": "code",
   "execution_count": 39,
   "metadata": {},
   "outputs": [],
   "source": [
    "fee = 0.0005\n",
    "\n",
    "initialPrice = 2000.0\n",
    "daily_std = 0.05 # daily std of the price of X in Y\n",
    "blocks_per_day = 24.0*60*5 # 5 blocks per minute = 12ss blocks\n",
    "days = 1.0 # how many days each simulation runs\n",
    "paths = 10_000 # how many price paths to simulate. days*paths = total number of simulated days\n",
    "low_gas_cost = 10.0 # low gas fee per swap\n",
    "high_gas_cost = 10.50 # low gas fee per swap\n",
    "liquidityPerBPS = 10_000.0 #with a starting price of ETH at $1200 (which is the default value), this L is equivalent to $60,000/bps\n",
    "\n",
    "res = run_sims2(fee, initialPrice, daily_std, \n",
    "                    blocks_per_day, days, paths, low_gas_cost, high_gas_cost, liquidityPerBPS)\n",
    "\n",
    "l = np.mean(res, 1)"
   ]
  },
  {
   "cell_type": "code",
   "execution_count": 40,
   "metadata": {},
   "outputs": [
    {
     "name": "stdout",
     "output_type": "stream",
     "text": [
      "Less liquid pair, $10K liquidity per basis point\n",
      "Extra gas cost as a share of original gas cost:  0.0316581853190822\n",
      "Share of the extra gas cost covered by LPs:  0.5722192653916589\n",
      "Extra loss of LPs as a share of post-fee LVR:  0.0049879835939893894\n",
      "Gas cost (w/o events) as a share of post-fee LVR:  0.27534457480779917\n"
     ]
    }
   ],
   "source": [
    "print(\"Less liquid pair, $10K liquidity per basis point\")\n",
    "print(\"Extra gas cost as a share of original gas cost: \", (l[5] - l[2])/l[2])\n",
    "print(\"Share of the extra gas cost covered by LPs: \", (l[0] - l[3])/(l[5] - l[2]))\n",
    "print(\"Extra loss of LPs as a share of post-fee LVR: \", -(l[0] - l[3])/l[0])\n",
    "print(\"Gas cost (w/o events) as a share of post-fee LVR: \", -(l[2])/l[0])"
   ]
  },
  {
   "cell_type": "code",
   "execution_count": 41,
   "metadata": {},
   "outputs": [],
   "source": [
    "fee = 0.0030\n",
    "\n",
    "initialPrice = 2000.0\n",
    "daily_std = 0.05 # daily std of the price of X in Y\n",
    "blocks_per_day = 24.0*60*5 # 5 blocks per minute = 12ss blocks\n",
    "days = 1.0 # how many days each simulation runs\n",
    "paths = 10_000 # how many price paths to simulate. days*paths = total number of simulated days\n",
    "low_gas_cost = 10.0 # low gas fee per swap\n",
    "high_gas_cost = 10.50 # low gas fee per swap\n",
    "liquidityPerBPS = 50_000.0 #with a starting price of ETH at $1200 (which is the default value), this L is equivalent to $60,000/bps\n",
    "\n",
    "res = run_sims2(fee, initialPrice, daily_std, \n",
    "                    blocks_per_day, days, paths, low_gas_cost, high_gas_cost, liquidityPerBPS)\n",
    "\n",
    "l = np.mean(res, 1)"
   ]
  },
  {
   "cell_type": "code",
   "execution_count": 42,
   "metadata": {},
   "outputs": [
    {
     "name": "stdout",
     "output_type": "stream",
     "text": [
      "Higher swap fee, 30bps\n",
      "Extra gas cost as a share of original gas cost:  0.04202123802616528\n",
      "Share of the extra gas cost covered by LPs:  0.7660060234959\n",
      "Extra loss of LPs as a share of post-fee LVR:  0.0030076846796644125\n",
      "Gas cost (w/o events) as a share of post-fee LVR:  0.09343966559661301\n"
     ]
    }
   ],
   "source": [
    "print(\"Higher swap fee, 30bps\")\n",
    "print(\"Extra gas cost as a share of original gas cost: \", (l[5] - l[2])/l[2])\n",
    "print(\"Share of the extra gas cost covered by LPs: \", (l[0] - l[3])/(l[5] - l[2]))\n",
    "print(\"Extra loss of LPs as a share of post-fee LVR: \", -(l[0] - l[3])/l[0])\n",
    "print(\"Gas cost (w/o events) as a share of post-fee LVR: \", -(l[2])/l[0])"
   ]
  },
  {
   "cell_type": "code",
   "execution_count": 43,
   "metadata": {},
   "outputs": [],
   "source": [
    "fee = 0.0005\n",
    "\n",
    "initialPrice = 2000.0\n",
    "daily_std = 0.03 # daily std of the price of X in Y\n",
    "blocks_per_day = 24.0*60*5 # 5 blocks per minute = 12ss blocks\n",
    "days = 1.0 # how many days each simulation runs\n",
    "paths = 10_000 # how many price paths to simulate. days*paths = total number of simulated days\n",
    "low_gas_cost = 10.0 # low gas fee per swap\n",
    "high_gas_cost = 10.50 # low gas fee per swap\n",
    "liquidityPerBPS = 50_000.0 #with a starting price of ETH at $1200 (which is the default value), this L is equivalent to $60,000/bps\n",
    "\n",
    "res = run_sims2(fee, initialPrice, daily_std, \n",
    "                    blocks_per_day, days, paths, low_gas_cost, high_gas_cost, liquidityPerBPS)\n",
    "\n",
    "l = np.mean(res, 1)"
   ]
  },
  {
   "cell_type": "code",
   "execution_count": 44,
   "metadata": {},
   "outputs": [
    {
     "name": "stdout",
     "output_type": "stream",
     "text": [
      "Lower volatility, 3%\n",
      "Extra gas cost as a share of original gas cost:  0.036438836357723645\n",
      "Share of the extra gas cost covered by LPs:  0.6560006879755667\n",
      "Extra loss of LPs as a share of post-fee LVR:  0.004644010097250102\n",
      "Gas cost (w/o events) as a share of post-fee LVR:  0.1942783296094141\n"
     ]
    }
   ],
   "source": [
    "print(\"Lower volatility, 3%\")\n",
    "print(\"Extra gas cost as a share of original gas cost: \", (l[5] - l[2])/l[2])\n",
    "print(\"Share of the extra gas cost covered by LPs: \", (l[0] - l[3])/(l[5] - l[2]))\n",
    "print(\"Extra loss of LPs as a share of post-fee LVR: \", -(l[0] - l[3])/l[0])\n",
    "print(\"Gas cost (w/o events) as a share of post-fee LVR: \", -(l[2])/l[0])"
   ]
  }
 ],
 "metadata": {
  "kernelspec": {
   "display_name": "Python 3.9.13 ('base')",
   "language": "python",
   "name": "python3"
  },
  "language_info": {
   "codemirror_mode": {
    "name": "ipython",
    "version": 3
   },
   "file_extension": ".py",
   "mimetype": "text/x-python",
   "name": "python",
   "nbconvert_exporter": "python",
   "pygments_lexer": "ipython3",
   "version": "3.11.5"
  },
  "orig_nbformat": 4,
  "vscode": {
   "interpreter": {
    "hash": "472f3460692ba2c0861145e5e150d03c8a5c0e40e057944a047c431b9050b93d"
   }
  }
 },
 "nbformat": 4,
 "nbformat_minor": 2
}
